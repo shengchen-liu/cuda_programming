{
 "cells": [
  {
   "cell_type": "code",
   "execution_count": 1,
   "id": "2fecdce2-2377-4c84-a245-9af20f76e634",
   "metadata": {},
   "outputs": [],
   "source": [
    "import tensorrt as trt\n",
    "import os\n",
    "\n",
    "import pycuda.autoinit\n",
    "import pycuda.driver as cuda"
   ]
  },
  {
   "cell_type": "code",
   "execution_count": 2,
   "id": "29a23627-418b-4371-84ab-7d0904d8e2e6",
   "metadata": {},
   "outputs": [
    {
     "name": "stdout",
     "output_type": "stream",
     "text": [
      "[02/13/2024-21:00:47] [TRT] [W] CUDA lazy loading is not enabled. Enabling it can significantly reduce device memory usage. See `CUDA_MODULE_LOADING` in https://docs.nvidia.com/cuda/cuda-c-programming-guide/index.html#env-vars\n"
     ]
    }
   ],
   "source": [
    "TRT_LOGGER = trt.Logger(trt.Logger.WARNING)\n",
    "builder = trt.Builder(TRT_LOGGER)"
   ]
  },
  {
   "cell_type": "code",
   "execution_count": 3,
   "id": "e8bda59b-1ae4-4c9f-9242-b2e41fdf0442",
   "metadata": {},
   "outputs": [],
   "source": [
    "runtime = trt.Runtime(TRT_LOGGER)\n",
    "with open('./engine.trt', 'rb') as f:\n",
    "    engine_bytes = f.read()\n",
    "    engine = runtime.deserialize_cuda_engine(engine_bytes)"
   ]
  },
  {
   "cell_type": "code",
   "execution_count": 4,
   "id": "f3f05b83-0dcd-4811-aa6e-aa7e9fbd48e5",
   "metadata": {},
   "outputs": [
    {
     "name": "stdout",
     "output_type": "stream",
     "text": [
      "[02/13/2024-21:01:13] [TRT] [W] CUDA lazy loading is not enabled. Enabling it can significantly reduce device memory usage. See `CUDA_MODULE_LOADING` in https://docs.nvidia.com/cuda/cuda-c-programming-guide/index.html#env-vars\n"
     ]
    }
   ],
   "source": [
    "# Create execution context as shown below\n",
    "bert_context = engine.create_execution_context()\n"
   ]
  },
  {
   "cell_type": "code",
   "execution_count": null,
   "id": "d449d240-253d-4064-9aa1-a549d69f68a8",
   "metadata": {},
   "outputs": [],
   "source": [
    "'''\n",
    "inputs\n",
    "'''\n",
    "input_ids = numpy array ( size: batch X seq_len) ex: (1 X 30 )\n",
    "token_type_ids = numpy array ( size: batch X seq_len) ex: (1 X 30 )\n",
    "attention_mask = numpy array ( size: batch X seq_len) ex: (1 X 30 )\n",
    "'''\n",
    "outputs\n",
    "'''\n",
    "bert_output = torch.zeros((1, num_of_classes),device=device).cpu().detach().numpy()"
   ]
  }
 ],
 "metadata": {
  "kernelspec": {
   "display_name": "Python 3 (ipykernel)",
   "language": "python",
   "name": "python3"
  },
  "language_info": {
   "codemirror_mode": {
    "name": "ipython",
    "version": 3
   },
   "file_extension": ".py",
   "mimetype": "text/x-python",
   "name": "python",
   "nbconvert_exporter": "python",
   "pygments_lexer": "ipython3",
   "version": "3.10.13"
  }
 },
 "nbformat": 4,
 "nbformat_minor": 5
}
